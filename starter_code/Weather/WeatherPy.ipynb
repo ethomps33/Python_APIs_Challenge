{
 "cells": [
  {
   "cell_type": "markdown",
   "metadata": {},
   "source": [
    "# WeatherPy\n",
    "----\n",
    "\n",
    "#### Note\n",
    "* Instructions have been included for each segment. You do not have to follow them exactly, but they are included to help you think through the steps."
   ]
  },
  {
   "cell_type": "code",
   "execution_count": 12,
   "metadata": {
    "scrolled": true
   },
   "outputs": [],
   "source": [
    "# Dependencies and Setup\n",
    "import matplotlib.pyplot as plt\n",
    "import pandas as pd\n",
    "import numpy as np\n",
    "import requests\n",
    "import time\n",
    "import json\n",
    "from scipy.stats import linregress\n",
    "\n",
    "# Import API key\n",
    "from api_keys import weather_api_key\n",
    "\n",
    "# Incorporated citipy to determine city based on latitude and longitude\n",
    "from citipy import citipy\n",
    "\n",
    "# Output File (CSV)\n",
    "output_data_file = \"../../output_data/cities.csv\"\n",
    "\n",
    "# Range of latitudes and longitudes\n",
    "lat_range = (-90, 90)\n",
    "lng_range = (-180, 180)\n"
   ]
  },
  {
   "cell_type": "markdown",
   "metadata": {},
   "source": [
    "## Generate Cities List"
   ]
  },
  {
   "cell_type": "code",
   "execution_count": 2,
   "metadata": {},
   "outputs": [
    {
     "data": {
      "text/plain": [
       "617"
      ]
     },
     "execution_count": 2,
     "metadata": {},
     "output_type": "execute_result"
    }
   ],
   "source": [
    "# List for holding lat_lngs and cities\n",
    "lat_lngs = []\n",
    "cities = []\n",
    "\n",
    "# Create a set of random lat and lng combinations\n",
    "lats = np.random.uniform(lat_range[0], lat_range[1], size=1500)\n",
    "lngs = np.random.uniform(lng_range[0], lng_range[1], size=1500)\n",
    "lat_lngs = zip(lats, lngs)\n",
    "\n",
    "# Identify nearest city for each lat, lng combination\n",
    "for lat_lng in lat_lngs:\n",
    "    city = citipy.nearest_city(lat_lng[0], lat_lng[1]).city_name\n",
    "    \n",
    "    # If the city is unique, then add it to a our cities list\n",
    "    if city not in cities:\n",
    "        cities.append(city)\n",
    "\n",
    "# Print the city count to confirm sufficient count\n",
    "len(cities)"
   ]
  },
  {
   "cell_type": "markdown",
   "metadata": {},
   "source": [
    "### Perform API Calls\n",
    "* Perform a weather check on each city using a series of successive API calls.\n",
    "* Include a print log of each city as it'sbeing processed (with the city number and city name).\n"
   ]
  },
  {
   "cell_type": "code",
   "execution_count": 3,
   "metadata": {},
   "outputs": [
    {
     "data": {
      "text/plain": [
       "{'coord': {'lon': 100.3174, 'lat': 18.339},\n",
       " 'weather': [{'id': 701,\n",
       "   'main': 'Mist',\n",
       "   'description': 'mist',\n",
       "   'icon': '50d'}],\n",
       " 'base': 'stations',\n",
       " 'main': {'temp': 66.2,\n",
       "  'feels_like': 69.75,\n",
       "  'temp_min': 66.2,\n",
       "  'temp_max': 66.2,\n",
       "  'pressure': 1017,\n",
       "  'humidity': 94},\n",
       " 'visibility': 3000,\n",
       " 'wind': {'speed': 2.64, 'deg': 57},\n",
       " 'clouds': {'all': 4},\n",
       " 'dt': 1612404057,\n",
       " 'sys': {'type': 1,\n",
       "  'id': 9249,\n",
       "  'country': 'TH',\n",
       "  'sunrise': 1612396268,\n",
       "  'sunset': 1612437247},\n",
       " 'timezone': 25200,\n",
       " 'id': 1606983,\n",
       " 'name': 'Rong Kwang',\n",
       " 'cod': 200}"
      ]
     },
     "execution_count": 3,
     "metadata": {},
     "output_type": "execute_result"
    }
   ],
   "source": [
    "query_url = f\"http://api.openweathermap.org/data/2.5/weather?appid={weather_api_key}&units=imperial&q=\"\n",
    "\n",
    "response = requests.get(query_url + city).json()\n",
    "response"
   ]
  },
  {
   "cell_type": "code",
   "execution_count": 4,
   "metadata": {
    "collapsed": true
   },
   "outputs": [
    {
     "name": "stdout",
     "output_type": "stream",
     "text": [
      "Beginning Data Retrieval\n",
      "-----------------------------\n",
      "Processing Record | avarua\n",
      "Processing Record | hilo\n",
      "Processing Record | albany\n",
      "Processing Record | bluff\n",
      "Processing Record | port alfred\n",
      "Processing Record | novopokrovka\n",
      "City not found.\n",
      "Processing Record | punta arenas\n",
      "Processing Record | kailua\n",
      "Processing Record | sola\n",
      "Processing Record | ushuaia\n",
      "City not found.\n",
      "Processing Record | kapaa\n",
      "Processing Record | parana\n",
      "City not found.\n",
      "Processing Record | suntar\n",
      "Processing Record | muros\n",
      "Processing Record | east london\n",
      "City not found.\n",
      "Processing Record | saint-georges\n",
      "Processing Record | margate\n",
      "Processing Record | ust-maya\n",
      "Processing Record | busselton\n",
      "Processing Record | upernavik\n",
      "Processing Record | rodrigues alves\n",
      "Processing Record | mataura\n",
      "Processing Record | zhangye\n",
      "City not found.\n",
      "Processing Record | khatanga\n",
      "Processing Record | hobart\n",
      "Processing Record | yellowknife\n",
      "Processing Record | vaini\n",
      "Processing Record | sao filipe\n",
      "Processing Record | san patricio\n",
      "Processing Record | victoria\n",
      "Processing Record | dingle\n",
      "Processing Record | sibu\n",
      "Processing Record | atuona\n",
      "City not found.\n",
      "Processing Record | derzhavinsk\n",
      "City not found.\n",
      "Processing Record | sensuntepeque\n",
      "Processing Record | kaduy\n",
      "Processing Record | nanortalik\n",
      "Processing Record | touros\n",
      "Processing Record | goldsboro\n",
      "Processing Record | qaanaaq\n",
      "Processing Record | tura\n",
      "Processing Record | rikitea\n",
      "Processing Record | lakes entrance\n",
      "City not found.\n",
      "Processing Record | puerto ayora\n",
      "Processing Record | dikson\n",
      "Processing Record | faanui\n",
      "Processing Record | kahului\n",
      "Processing Record | phalaborwa\n",
      "Processing Record | saint-pierre\n",
      "Processing Record | chapais\n",
      "Processing Record | boa vista\n",
      "Processing Record | butaritari\n",
      "Processing Record | norman wells\n",
      "Processing Record | markova\n",
      "Processing Record | naryan-mar\n",
      "Processing Record | taree\n",
      "Processing Record | teruel\n",
      "Processing Record | longyearbyen\n",
      "Processing Record | bredasdorp\n",
      "City not found.\n",
      "Processing Record | usinsk\n",
      "Processing Record | makakilo city\n",
      "Processing Record | quatre cocos\n",
      "Processing Record | arraial do cabo\n",
      "Processing Record | port blair\n",
      "Processing Record | talnakh\n",
      "Processing Record | podor\n",
      "Processing Record | nikolskoye\n",
      "City not found.\n",
      "Processing Record | esna\n",
      "Processing Record | chuy\n",
      "Processing Record | sitka\n",
      "City not found.\n",
      "Processing Record | henties bay\n",
      "Processing Record | barrow\n",
      "Processing Record | hermanus\n",
      "Processing Record | hobyo\n",
      "Processing Record | airai\n",
      "Processing Record | guerrero negro\n",
      "Processing Record | fortuna\n",
      "Processing Record | iberia\n",
      "Processing Record | buchanan\n",
      "Processing Record | lorengau\n",
      "Processing Record | kijang\n",
      "Processing Record | husavik\n",
      "Processing Record | mao\n",
      "Processing Record | esperance\n",
      "Processing Record | port-gentil\n",
      "Processing Record | mahebourg\n",
      "Processing Record | zhigalovo\n",
      "Processing Record | provideniya\n",
      "Processing Record | sampit\n",
      "Processing Record | klaksvik\n",
      "Processing Record | tuktoyaktuk\n",
      "Processing Record | iringa\n",
      "Processing Record | fort nelson\n",
      "Processing Record | luderitz\n",
      "Processing Record | cape town\n",
      "Processing Record | belyy yar\n",
      "Processing Record | rawson\n",
      "Processing Record | anadyr\n",
      "Processing Record | maues\n",
      "Processing Record | korla\n",
      "Processing Record | saquarema\n",
      "Processing Record | shimoda\n",
      "Processing Record | selma\n",
      "Processing Record | blackpool\n",
      "Processing Record | lebu\n",
      "Processing Record | ouidah\n",
      "Processing Record | majene\n",
      "Processing Record | saldanha\n",
      "Processing Record | fatezh\n",
      "Processing Record | san juan\n",
      "Processing Record | dukat\n",
      "Processing Record | lasa\n",
      "Processing Record | paita\n",
      "Processing Record | ribeira grande\n",
      "Processing Record | inuvik\n",
      "Processing Record | cabedelo\n",
      "Processing Record | coracora\n",
      "Processing Record | richards bay\n",
      "Processing Record | coahuayana\n",
      "Processing Record | broken hill\n",
      "Processing Record | georgetown\n",
      "Processing Record | new norfolk\n",
      "Processing Record | lithgow\n",
      "Processing Record | clyde river\n",
      "Processing Record | carnarvon\n",
      "Processing Record | grindavik\n",
      "City not found.\n",
      "Processing Record | port shepstone\n",
      "Processing Record | colares\n",
      "Processing Record | agadez\n",
      "Processing Record | tuatapere\n",
      "Processing Record | fairbanks\n",
      "Processing Record | haines junction\n",
      "Processing Record | pavlovka\n",
      "Processing Record | yoichi\n",
      "City not found.\n",
      "City not found.\n",
      "Processing Record | itoman\n",
      "Processing Record | balotra\n",
      "Processing Record | kotdwara\n",
      "City not found.\n",
      "Processing Record | santiago\n",
      "Processing Record | ca mau\n",
      "Processing Record | bambous virieux\n",
      "City not found.\n",
      "Processing Record | leningradskiy\n",
      "Processing Record | saskylakh\n",
      "Processing Record | trinidad\n",
      "Processing Record | chyhyryn\n",
      "Processing Record | ilulissat\n",
      "Processing Record | avera\n",
      "Processing Record | jamestown\n",
      "Processing Record | mar del plata\n",
      "Processing Record | lososina\n",
      "Processing Record | khor\n",
      "Processing Record | saint-philippe\n",
      "Processing Record | taltal\n",
      "Processing Record | grand baie\n",
      "Processing Record | hofn\n",
      "Processing Record | nishihara\n",
      "Processing Record | rocha\n",
      "City not found.\n",
      "Processing Record | maxixe\n",
      "City not found.\n",
      "Processing Record | souillac\n",
      "Processing Record | sakakah\n",
      "Processing Record | port lincoln\n",
      "Processing Record | ampanihy\n",
      "Processing Record | macae\n",
      "Processing Record | sawakin\n",
      "Processing Record | lewisporte\n",
      "Processing Record | wuda\n",
      "Processing Record | sabang\n",
      "Processing Record | general roca\n",
      "City not found.\n",
      "Processing Record | khorixas\n",
      "Processing Record | mahibadhoo\n",
      "Processing Record | kavaratti\n",
      "Processing Record | ochamchira\n",
      "Processing Record | comodoro rivadavia\n",
      "Processing Record | broome\n",
      "Processing Record | christchurch\n",
      "Processing Record | casino\n",
      "Processing Record | coari\n",
      "Processing Record | olafsvik\n",
      "Processing Record | kismayo\n",
      "Processing Record | port hedland\n",
      "Processing Record | chhaprauli\n",
      "Processing Record | mount isa\n",
      "Processing Record | spanish town\n",
      "Processing Record | cayenne\n",
      "Processing Record | pingzhuang\n",
      "Processing Record | kontagora\n",
      "Processing Record | murmashi\n",
      "Processing Record | high level\n",
      "City not found.\n",
      "Processing Record | reconquista\n",
      "Processing Record | filadelfia\n",
      "Processing Record | mitsamiouli\n",
      "Processing Record | katsuura\n",
      "Processing Record | nome\n",
      "City not found.\n",
      "Processing Record | hohhot\n",
      "Processing Record | chokurdakh\n",
      "Processing Record | fort frances\n",
      "Processing Record | punta de bombon\n",
      "Processing Record | agirish\n",
      "Processing Record | businga\n",
      "Processing Record | tiarei\n",
      "Processing Record | walvis bay\n",
      "Processing Record | iqaluit\n",
      "Processing Record | bintulu\n",
      "Processing Record | south lyon\n",
      "Processing Record | kodiak\n",
      "Processing Record | namibe\n",
      "Processing Record | ust-kuyga\n",
      "City not found.\n",
      "Processing Record | nyurba\n",
      "Processing Record | buraydah\n",
      "Processing Record | cidreira\n",
      "Processing Record | seydi\n",
      "Processing Record | maragogi\n",
      "Processing Record | sorland\n",
      "Processing Record | ponta delgada\n",
      "Processing Record | cockburn town\n",
      "Processing Record | goderich\n",
      "Processing Record | qui nhon\n",
      "Processing Record | qarqin\n",
      "Processing Record | hay river\n",
      "Processing Record | northam\n",
      "Processing Record | lata\n",
      "Processing Record | ukiah\n",
      "Processing Record | cherskiy\n",
      "City not found.\n",
      "Processing Record | bengkulu\n",
      "Processing Record | hualmay\n",
      "Processing Record | severo-kurilsk\n",
      "Processing Record | novoagansk\n",
      "Processing Record | araouane\n",
      "Processing Record | awjilah\n",
      "City not found.\n",
      "Processing Record | maniitsoq\n",
      "Processing Record | marawi\n",
      "Processing Record | shetpe\n",
      "Processing Record | nara\n",
      "Processing Record | maunabo\n",
      "Processing Record | safita\n",
      "Processing Record | bethel\n",
      "Processing Record | kuytun\n",
      "Processing Record | wuhan\n",
      "Processing Record | aginskoye\n",
      "Processing Record | noumea\n",
      "Processing Record | lipin bor\n",
      "Processing Record | kaitangata\n",
      "Processing Record | sinjai\n",
      "Processing Record | coquimbo\n",
      "Processing Record | irbil\n",
      "Processing Record | sajanan\n",
      "Processing Record | sinop\n",
      "Processing Record | huarmey\n",
      "Processing Record | tateyama\n",
      "Processing Record | slave lake\n",
      "Processing Record | kabo\n",
      "Processing Record | kapit\n",
      "Processing Record | rovaniemi\n",
      "Processing Record | luorong\n",
      "City not found.\n",
      "Processing Record | curup\n",
      "Processing Record | yemelyanovo\n",
      "Processing Record | ahipara\n",
      "Processing Record | kavieng\n",
      "Processing Record | baiyin\n",
      "Processing Record | plettenberg bay\n",
      "Processing Record | haimen\n",
      "Processing Record | lagoa\n",
      "Processing Record | srednekolymsk\n",
      "Processing Record | havelock\n",
      "Processing Record | san cristobal\n",
      "Processing Record | san jose\n",
      "Processing Record | fremont\n"
     ]
    },
    {
     "name": "stdout",
     "output_type": "stream",
     "text": [
      "City not found.\n",
      "Processing Record | simeonovgrad\n",
      "Processing Record | umtata\n",
      "Processing Record | namioka\n",
      "Processing Record | watsa\n",
      "Processing Record | sao joao da barra\n",
      "Processing Record | talwandi bhai\n",
      "Processing Record | vahan\n",
      "Processing Record | bay-khaak\n",
      "Processing Record | vagur\n",
      "Processing Record | yabrud\n",
      "Processing Record | cangzhou\n",
      "Processing Record | cicevac\n",
      "Processing Record | brae\n",
      "Processing Record | mweka\n",
      "Processing Record | chukhloma\n",
      "Processing Record | itarema\n",
      "Processing Record | puerto del rosario\n",
      "City not found.\n",
      "Processing Record | meulaboh\n",
      "Processing Record | ust-omchug\n",
      "Processing Record | tomatlan\n",
      "Processing Record | kalanguy\n",
      "Processing Record | quelimane\n",
      "City not found.\n",
      "Processing Record | chumphon\n",
      "Processing Record | phan thiet\n",
      "City not found.\n",
      "Processing Record | mabaruma\n",
      "Processing Record | sioux lookout\n",
      "Processing Record | atherton\n",
      "Processing Record | te anau\n",
      "Processing Record | tucuman\n",
      "Processing Record | mayo\n",
      "Processing Record | gweta\n",
      "Processing Record | moerai\n",
      "Processing Record | winnemucca\n",
      "Processing Record | nairobi\n",
      "Processing Record | ostroleka\n",
      "Processing Record | riyadh\n",
      "Processing Record | general bravo\n",
      "Processing Record | vila franca do campo\n",
      "Processing Record | tasiilaq\n",
      "Processing Record | tiksi\n",
      "Processing Record | bonthe\n",
      "Processing Record | loding\n",
      "Processing Record | amberg\n",
      "Processing Record | impfondo\n",
      "City not found.\n",
      "Processing Record | tilichiki\n",
      "Processing Record | hithadhoo\n",
      "Processing Record | pechora\n",
      "Processing Record | roma\n",
      "Processing Record | aksha\n",
      "Processing Record | khandyga\n",
      "Processing Record | bandarbeyla\n",
      "Processing Record | praia da vitoria\n",
      "Processing Record | samarai\n",
      "Processing Record | didwana\n",
      "Processing Record | ulladulla\n",
      "Processing Record | salar\n",
      "City not found.\n",
      "Processing Record | itupiranga\n",
      "Processing Record | jalu\n",
      "Processing Record | ancud\n",
      "Processing Record | dwarka\n",
      "Processing Record | ponta do sol\n",
      "Processing Record | shumskiy\n",
      "Processing Record | tapes\n",
      "Processing Record | denpasar\n",
      "Processing Record | petropavlovsk-kamchatskiy\n",
      "Processing Record | simao\n",
      "Processing Record | poronaysk\n",
      "Processing Record | svetlyy\n",
      "Processing Record | yumen\n",
      "Processing Record | bambanglipuro\n",
      "Processing Record | castro\n",
      "Processing Record | beringovskiy\n",
      "Processing Record | port macquarie\n",
      "Processing Record | mehamn\n",
      "Processing Record | dolores\n",
      "Processing Record | ola\n",
      "Processing Record | pisco\n",
      "Processing Record | los llanos de aridane\n",
      "Processing Record | belaya gora\n",
      "Processing Record | kemijarvi\n",
      "Processing Record | shahrud\n",
      "Processing Record | shenjiamen\n",
      "Processing Record | bendigo\n",
      "Processing Record | brainerd\n",
      "Processing Record | hami\n",
      "Processing Record | cabo san lucas\n",
      "City not found.\n",
      "Processing Record | dzaoudzi\n",
      "Processing Record | luancheng\n",
      "Processing Record | laguna\n",
      "Processing Record | cocorit\n",
      "Processing Record | flinders\n",
      "Processing Record | codrington\n",
      "Processing Record | burnie\n",
      "City not found.\n",
      "Processing Record | liuhe\n",
      "Processing Record | muzhi\n",
      "Processing Record | darnah\n",
      "Processing Record | krasnogorsk\n",
      "Processing Record | tuzla\n",
      "Processing Record | tessalit\n",
      "Processing Record | moron\n",
      "City not found.\n",
      "Processing Record | taoudenni\n",
      "City not found.\n",
      "Processing Record | xiaoweizhai\n",
      "Processing Record | kyshtovka\n",
      "Processing Record | marzuq\n",
      "Processing Record | totness\n",
      "Processing Record | ixtapa\n",
      "Processing Record | morant bay\n",
      "Processing Record | kurilsk\n",
      "City not found.\n",
      "Processing Record | geraldton\n",
      "Processing Record | khani\n",
      "Processing Record | dingzhou\n",
      "Processing Record | alta floresta\n",
      "Processing Record | termiz\n",
      "Processing Record | maizuru\n",
      "Processing Record | ayaviri\n",
      "Processing Record | yenagoa\n",
      "Processing Record | perpignan\n",
      "City not found.\n",
      "Processing Record | karratha\n",
      "Processing Record | griffith\n",
      "Processing Record | the pas\n",
      "Processing Record | saint anthony\n",
      "Processing Record | krasnyy yar\n",
      "Processing Record | chihuahua\n",
      "Processing Record | korsakov\n",
      "Processing Record | nalut\n",
      "Processing Record | sesheke\n",
      "Processing Record | bourges\n",
      "Processing Record | kisangani\n",
      "Processing Record | port elizabeth\n",
      "Processing Record | am timan\n",
      "City not found.\n",
      "Processing Record | fukue\n",
      "Processing Record | ahuimanu\n",
      "Processing Record | yuancheng\n",
      "Processing Record | huittinen\n",
      "Processing Record | iwanai\n",
      "City not found.\n",
      "Processing Record | cururupu\n",
      "Processing Record | pecos\n",
      "Processing Record | mount gambier\n",
      "Processing Record | prainha\n",
      "Processing Record | westport\n",
      "Processing Record | kruisfontein\n",
      "Processing Record | morro bay\n",
      "City not found.\n",
      "City not found.\n",
      "City not found.\n",
      "Processing Record | ngunguru\n",
      "Processing Record | tautira\n",
      "Processing Record | binabalian\n",
      "Processing Record | panjab\n",
      "Processing Record | katherine\n",
      "Processing Record | pevek\n",
      "Processing Record | waipawa\n",
      "Processing Record | bud\n",
      "City not found.\n",
      "Processing Record | santa isabel do rio negro\n",
      "Processing Record | novyy nekouz\n",
      "Processing Record | cap malheureux\n",
      "Processing Record | mahon\n",
      "Processing Record | pedreiras\n",
      "Processing Record | pirgos\n",
      "Processing Record | aliquippa\n",
      "Processing Record | constitucion\n",
      "Processing Record | itapetinga\n",
      "Processing Record | murgeni\n",
      "Processing Record | cravo norte\n",
      "Processing Record | caravelas\n",
      "Processing Record | cairns\n",
      "Processing Record | college\n",
      "Processing Record | clarksdale\n",
      "Processing Record | erzin\n",
      "Processing Record | johi\n",
      "Processing Record | half moon bay\n",
      "Processing Record | tigil\n",
      "Processing Record | miri\n",
      "Processing Record | oranjestad\n",
      "City not found.\n",
      "Processing Record | zalantun\n",
      "Processing Record | salisbury\n",
      "Processing Record | vardo\n",
      "Processing Record | sao gabriel da cachoeira\n",
      "Processing Record | dengzhou\n",
      "Processing Record | vieux-habitants\n",
      "Processing Record | were ilu\n",
      "Processing Record | lhokseumawe\n",
      "Processing Record | prince rupert\n",
      "City not found.\n",
      "Processing Record | lazaro cardenas\n",
      "Processing Record | baruun-urt\n",
      "Processing Record | evensk\n",
      "Processing Record | aykhal\n",
      "Processing Record | santiago de cuba\n",
      "Processing Record | port hardy\n",
      "Processing Record | cabra\n",
      "Processing Record | bubaque\n",
      "Processing Record | asau\n",
      "Processing Record | pathein\n",
      "Processing Record | pestyaki\n",
      "Processing Record | lima\n",
      "Processing Record | salalah\n",
      "Processing Record | torbay\n",
      "Processing Record | meru\n",
      "Processing Record | den helder\n",
      "City not found.\n",
      "Processing Record | doha\n",
      "Processing Record | ornskoldsvik\n",
      "Processing Record | portland\n",
      "Processing Record | savelugu\n",
      "Processing Record | porto novo\n",
      "Processing Record | mwense\n",
      "Processing Record | baykit\n",
      "Processing Record | narsaq\n",
      "City not found.\n",
      "Processing Record | sur\n",
      "Processing Record | mana\n",
      "Processing Record | aden\n",
      "Processing Record | windhoek\n",
      "Processing Record | port-de-bouc\n",
      "Processing Record | juye\n",
      "Processing Record | fuerte olimpo\n",
      "Processing Record | gurupi\n",
      "Processing Record | sinnamary\n",
      "Processing Record | rani\n",
      "Processing Record | bestobe\n",
      "Processing Record | tungor\n",
      "Processing Record | bijapur\n",
      "Processing Record | sarangani\n",
      "Processing Record | belgrade\n",
      "City not found.\n",
      "Processing Record | kargasok\n",
      "City not found.\n",
      "Processing Record | bartica\n",
      "Processing Record | fort-shevchenko\n",
      "Processing Record | yeppoon\n",
      "Processing Record | agbor\n",
      "Processing Record | altamira\n",
      "Processing Record | grand-santi\n",
      "Processing Record | zabol\n",
      "Processing Record | kununurra\n",
      "Processing Record | pryluky\n",
      "Processing Record | tarko-sale\n",
      "Processing Record | puerto baquerizo moreno\n",
      "Processing Record | amahai\n",
      "Processing Record | cartagena\n",
      "Processing Record | teguise\n",
      "Processing Record | hamilton\n",
      "Processing Record | bilma\n",
      "Processing Record | upata\n",
      "Processing Record | soverato\n",
      "Processing Record | erdaojiang\n",
      "Processing Record | severnoye\n",
      "Processing Record | shache\n",
      "Processing Record | zyryanka\n",
      "Processing Record | phrae\n",
      "Processing Record | kamenka\n",
      "Processing Record | bonavista\n",
      "Processing Record | sorong\n",
      "Processing Record | muisne\n",
      "Processing Record | xichang\n",
      "Processing Record | robertsport\n",
      "Processing Record | thompson\n",
      "Processing Record | leeton\n",
      "Processing Record | nusaybin\n",
      "Processing Record | guymon\n",
      "Processing Record | bathsheba\n",
      "Processing Record | nelson bay\n",
      "Processing Record | natal\n",
      "Processing Record | clarence town\n",
      "Processing Record | carauari\n",
      "Processing Record | hambantota\n",
      "Processing Record | lompoc\n",
      "Processing Record | manicore\n",
      "Processing Record | khorinsk\n",
      "Processing Record | camacha\n",
      "Processing Record | tonantins\n",
      "City not found.\n",
      "Processing Record | beloha\n",
      "Processing Record | malkapur\n"
     ]
    },
    {
     "name": "stdout",
     "output_type": "stream",
     "text": [
      "Processing Record | manjacaze\n",
      "City not found.\n",
      "Processing Record | bosaso\n",
      "Processing Record | vestmanna\n",
      "Processing Record | andenes\n",
      "Processing Record | tyukalinsk\n",
      "Processing Record | bam\n",
      "Processing Record | hasaki\n",
      "Processing Record | dillon\n",
      "Processing Record | san quintin\n",
      "Processing Record | praya\n",
      "Processing Record | chuka\n",
      "Processing Record | shyroke\n",
      "Processing Record | turukhansk\n",
      "Processing Record | inhambane\n",
      "Processing Record | dutlwe\n",
      "Processing Record | halifax\n",
      "Processing Record | tahoua\n",
      "Processing Record | athabasca\n",
      "Processing Record | grao mogol\n",
      "Processing Record | vila do maio\n",
      "Processing Record | villa carlos paz\n",
      "Processing Record | la ronge\n",
      "Processing Record | kenai\n",
      "Processing Record | vao\n",
      "City not found.\n",
      "Processing Record | poum\n",
      "Processing Record | dauphin\n",
      "Processing Record | nuevo progreso\n",
      "Processing Record | daru\n",
      "City not found.\n",
      "Processing Record | utica\n",
      "Processing Record | hammerfest\n",
      "Processing Record | imuris\n",
      "Processing Record | rong kwang\n"
     ]
    }
   ],
   "source": [
    "query_url = f\"http://api.openweathermap.org/data/2.5/weather?appid={weather_api_key}&units=imperial&q=\"\n",
    "name=[]\n",
    "country=[]\n",
    "humidity=[]\n",
    "temp=[]\n",
    "cloudy=[]\n",
    "wind=[]\n",
    "city_num=[]\n",
    "lon=[]\n",
    "lat=[]\n",
    "date=[]\n",
    "\n",
    "print(\"Beginning Data Retrieval\")\n",
    "print(\"-----------------------------\")\n",
    "\n",
    "for city in cities:\n",
    "    response = requests.get(query_url + city).json()\n",
    "    \n",
    "    try:\n",
    "        name.append(response['name'])\n",
    "        country.append(response['sys']['country'])\n",
    "        humidity.append(response['main']['humidity'])\n",
    "        temp.append(response['main']['temp'])\n",
    "        cloudy.append(response['clouds']['all'])\n",
    "        wind.append(response['wind']['speed'])\n",
    "        city_num.append(response['id'])\n",
    "        lon.append(response['coord']['lon'])\n",
    "        lat.append(response['coord']['lat'])\n",
    "        date.append(response['dt'])\n",
    "        print(f\"Processing Record | {city}\")\n",
    "        \n",
    "    except KeyError:\n",
    "        print(\"City not found.\")\n",
    "        "
   ]
  },
  {
   "cell_type": "markdown",
   "metadata": {},
   "source": [
    "### Convert Raw Data to DataFrame\n",
    "* Export the city data into a .csv.\n",
    "* Display the DataFrame"
   ]
  },
  {
   "cell_type": "code",
   "execution_count": 13,
   "metadata": {},
   "outputs": [],
   "source": [
    "data = {'City': name,\n",
    "         'Country': country, \n",
    "         'Humidity': humidity,\n",
    "        'Lat': lat,\n",
    "        'Lng': lon,\n",
    "         'Temperature': temp, \n",
    "         'Cloud Cover': cloudy,\n",
    "           'Winds': wind,\n",
    "           'Date': date}\n",
    "city_weather = pd.DataFrame(data)\n",
    "city_weather.to_csv(output_data_file, index=False)"
   ]
  },
  {
   "cell_type": "markdown",
   "metadata": {},
   "source": [
    "## Inspect the data and remove the cities where the humidity > 100%.\n",
    "----\n",
    "Skip this step if there are no cities that have humidity > 100%. "
   ]
  },
  {
   "cell_type": "code",
   "execution_count": 17,
   "metadata": {},
   "outputs": [
    {
     "data": {
      "text/html": [
       "<div>\n",
       "<style scoped>\n",
       "    .dataframe tbody tr th:only-of-type {\n",
       "        vertical-align: middle;\n",
       "    }\n",
       "\n",
       "    .dataframe tbody tr th {\n",
       "        vertical-align: top;\n",
       "    }\n",
       "\n",
       "    .dataframe thead th {\n",
       "        text-align: right;\n",
       "    }\n",
       "</style>\n",
       "<table border=\"1\" class=\"dataframe\">\n",
       "  <thead>\n",
       "    <tr style=\"text-align: right;\">\n",
       "      <th></th>\n",
       "      <th>City</th>\n",
       "      <th>Country</th>\n",
       "      <th>Humidity</th>\n",
       "      <th>Lat</th>\n",
       "      <th>Lng</th>\n",
       "      <th>Temperature</th>\n",
       "      <th>Cloud Cover</th>\n",
       "      <th>Winds</th>\n",
       "      <th>Date</th>\n",
       "    </tr>\n",
       "  </thead>\n",
       "  <tbody>\n",
       "  </tbody>\n",
       "</table>\n",
       "</div>"
      ],
      "text/plain": [
       "Empty DataFrame\n",
       "Columns: [City, Country, Humidity, Lat, Lng, Temperature, Cloud Cover, Winds, Date]\n",
       "Index: []"
      ]
     },
     "execution_count": 17,
     "metadata": {},
     "output_type": "execute_result"
    }
   ],
   "source": [
    "city_weather.loc[city_weather['Humidity']>100]\n"
   ]
  },
  {
   "cell_type": "code",
   "execution_count": null,
   "metadata": {},
   "outputs": [],
   "source": [
    "#  Get the indices of cities that have humidity over 100%.\n"
   ]
  },
  {
   "cell_type": "code",
   "execution_count": null,
   "metadata": {},
   "outputs": [],
   "source": [
    "# Make a new DataFrame equal to the city data to drop all humidity outliers by index.\n",
    "# Passing \"inplace=False\" will make a copy of the city_data DataFrame, which we call \"clean_city_data\".\n"
   ]
  },
  {
   "cell_type": "code",
   "execution_count": null,
   "metadata": {},
   "outputs": [],
   "source": [
    "\n"
   ]
  },
  {
   "cell_type": "markdown",
   "metadata": {},
   "source": [
    "## Plotting the Data\n",
    "* Use proper labeling of the plots using plot titles (including date of analysis) and axes labels.\n",
    "* Save the plotted figures as .pngs."
   ]
  },
  {
   "cell_type": "markdown",
   "metadata": {},
   "source": [
    "## Latitude vs. Temperature Plot"
   ]
  },
  {
   "cell_type": "code",
   "execution_count": 21,
   "metadata": {
    "scrolled": true
   },
   "outputs": [
    {
     "data": {
      "image/png": "[encoded data removed]",
      "text/plain": [
       "<Figure size 432x288 with 1 Axes>"
      ]
     },
     "metadata": {
      "needs_background": "light"
     },
     "output_type": "display_data"
    }
   ],
   "source": [
    "plt.scatter(city_weather['Lat'], city_weather['Temperature'], edgecolor='black')\n",
    "plt.title('Latitude vs. Temperature of World Cities')\n",
    "plt.xlabel('Latitdue')\n",
    "plt.ylabel('Temperature (F)')\n",
    "plt.grid()\n",
    "plt.show()"
   ]
  },
  {
   "cell_type": "markdown",
   "metadata": {},
   "source": [
    "## Latitude vs. Humidity Plot"
   ]
  },
  {
   "cell_type": "code",
   "execution_count": 22,
   "metadata": {},
   "outputs": [
    {
     "data": {
      "image/png": "[encoded data removed]",
      "text/plain": [
       "<Figure size 432x288 with 1 Axes>"
      ]
     },
     "metadata": {
      "needs_background": "light"
     },
     "output_type": "display_data"
    }
   ],
   "source": [
    "plt.scatter(city_weather['Lat'], city_weather['Humidity'], edgecolor='black')\n",
    "plt.title('Latitude vs. Humidity of World Cities')\n",
    "plt.xlabel('Humidity')\n",
    "plt.ylabel('Temperature (F)')\n",
    "plt.grid()\n",
    "plt.show()"
   ]
  },
  {
   "cell_type": "markdown",
   "metadata": {},
   "source": [
    "## Latitude vs. Cloudiness Plot"
   ]
  },
  {
   "cell_type": "code",
   "execution_count": 23,
   "metadata": {},
   "outputs": [
    {
     "data": {
      "image/png": "[encoded data removed]",
      "text/plain": [
       "<Figure size 432x288 with 1 Axes>"
      ]
     },
     "metadata": {
      "needs_background": "light"
     },
     "output_type": "display_data"
    }
   ],
   "source": [
    "plt.scatter(city_weather['Lat'], city_weather['Cloud Cover'], edgecolor='black')\n",
    "plt.title('Latitude vs. Cloudiness of World Cities')\n",
    "plt.xlabel('Cloudiness')\n",
    "plt.ylabel('Temperature (F)')\n",
    "plt.grid()\n",
    "plt.show()"
   ]
  },
  {
   "cell_type": "markdown",
   "metadata": {},
   "source": [
    "## Latitude vs. Wind Speed Plot"
   ]
  },
  {
   "cell_type": "code",
   "execution_count": 24,
   "metadata": {},
   "outputs": [
    {
     "data": {
      "image/png": "[encoded data removed]",
      "text/plain": [
       "<Figure size 432x288 with 1 Axes>"
      ]
     },
     "metadata": {
      "needs_background": "light"
     },
     "output_type": "display_data"
    }
   ],
   "source": [
    "plt.scatter(city_weather['Lat'], city_weather['Winds'], edgecolor='black')\n",
    "plt.title('Latitude vs. Wind Speed of World Cities')\n",
    "plt.xlabel('Wind Speed')\n",
    "plt.ylabel('Temperature (F)')\n",
    "plt.grid()\n",
    "plt.show()"
   ]
  },
  {
   "cell_type": "markdown",
   "metadata": {},
   "source": [
    "## Linear Regression"
   ]
  },
  {
   "cell_type": "code",
   "execution_count": null,
   "metadata": {},
   "outputs": [],
   "source": []
  },
  {
   "cell_type": "markdown",
   "metadata": {},
   "source": [
    "####  Northern Hemisphere - Max Temp vs. Latitude Linear Regression"
   ]
  },
  {
   "cell_type": "code",
   "execution_count": null,
   "metadata": {},
   "outputs": [],
   "source": []
  },
  {
   "cell_type": "markdown",
   "metadata": {},
   "source": [
    "####  Southern Hemisphere - Max Temp vs. Latitude Linear Regression"
   ]
  },
  {
   "cell_type": "code",
   "execution_count": null,
   "metadata": {},
   "outputs": [],
   "source": []
  },
  {
   "cell_type": "markdown",
   "metadata": {},
   "source": [
    "####  Northern Hemisphere - Humidity (%) vs. Latitude Linear Regression"
   ]
  },
  {
   "cell_type": "code",
   "execution_count": null,
   "metadata": {},
   "outputs": [],
   "source": []
  },
  {
   "cell_type": "markdown",
   "metadata": {},
   "source": [
    "####  Southern Hemisphere - Humidity (%) vs. Latitude Linear Regression"
   ]
  },
  {
   "cell_type": "code",
   "execution_count": null,
   "metadata": {},
   "outputs": [],
   "source": []
  },
  {
   "cell_type": "markdown",
   "metadata": {},
   "source": [
    "####  Northern Hemisphere - Cloudiness (%) vs. Latitude Linear Regression"
   ]
  },
  {
   "cell_type": "code",
   "execution_count": null,
   "metadata": {},
   "outputs": [],
   "source": []
  },
  {
   "cell_type": "markdown",
   "metadata": {},
   "source": [
    "####  Southern Hemisphere - Cloudiness (%) vs. Latitude Linear Regression"
   ]
  },
  {
   "cell_type": "code",
   "execution_count": null,
   "metadata": {},
   "outputs": [],
   "source": []
  },
  {
   "cell_type": "markdown",
   "metadata": {},
   "source": [
    "####  Northern Hemisphere - Wind Speed (mph) vs. Latitude Linear Regression"
   ]
  },
  {
   "cell_type": "code",
   "execution_count": null,
   "metadata": {},
   "outputs": [],
   "source": []
  },
  {
   "cell_type": "markdown",
   "metadata": {},
   "source": [
    "####  Southern Hemisphere - Wind Speed (mph) vs. Latitude Linear Regression"
   ]
  },
  {
   "cell_type": "code",
   "execution_count": null,
   "metadata": {},
   "outputs": [],
   "source": []
  },
  {
   "cell_type": "code",
   "execution_count": null,
   "metadata": {},
   "outputs": [],
   "source": []
  }
 ],
 "metadata": {
  "anaconda-cloud": {},
  "kernel_info": {
   "name": "python3"
  },
  "kernelspec": {
   "display_name": "Python [conda env:PythonData] *",
   "language": "python",
   "name": "conda-env-PythonData-py"
  },
  "language_info": {
   "codemirror_mode": {
    "name": "ipython",
    "version": 3
   },
   "file_extension": ".py",
   "mimetype": "text/x-python",
   "name": "python",
   "nbconvert_exporter": "python",
   "pygments_lexer": "ipython3",
   "version": "3.6.10"
  },
  "latex_envs": {
   "LaTeX_envs_menu_present": true,
   "autoclose": false,
   "autocomplete": true,
   "bibliofile": "biblio.bib",
   "cite_by": "apalike",
   "current_citInitial": 1,
   "eqLabelWithNumbers": true,
   "eqNumInitial": 1,
   "hotkeys": {
    "equation": "Ctrl-E",
    "itemize": "Ctrl-I"
   },
   "labels_anchors": false,
   "latex_user_defs": false,
   "report_style_numbering": false,
   "user_envs_cfg": false
  },
  "nteract": {
   "version": "0.12.3"
  }
 },
 "nbformat": 4,
 "nbformat_minor": 2
}
